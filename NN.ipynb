{
 "cells": [
  {
   "cell_type": "code",
   "execution_count": null,
   "metadata": {},
   "outputs": [],
   "source": [
    "import pandas as pd\n",
    "import numpy as np\n",
    "import re\n",
    "import plotly.express as px\n",
    "import plotly.graph_objs as go\n",
    "import category_encoders as ce\n",
    "\n",
    "from sklearn.preprocessing import StandardScaler, LabelEncoder, label_binarize\n",
    "\n",
    "import xgboost as xgb\n",
    "from sklearn.metrics import accuracy_score, classification_report, confusion_matrix, roc_curve, auc, mean_squared_error\n",
    "from sklearn.model_selection import train_test_split, cross_val_score, GridSearchCV\n",
    "from keras.wrappers.scikit_learn import KerasRegressor\n",
    "import tensorflow as tf\n"
   ]
  },
  {
   "cell_type": "code",
   "execution_count": null,
   "metadata": {},
   "outputs": [],
   "source": [
    "data = pd.read_csv('./data/train_clean.csv', na_values=[], keep_default_na=False)\n",
    "data.head()"
   ]
  },
  {
   "cell_type": "code",
   "execution_count": null,
   "metadata": {},
   "outputs": [],
   "source": [
    "cols_to_use =[\n",
    "  'MSZoning', 'LotArea', \n",
    "  'OverallQual', 'YearBuilt', 'YearRemodAdd', \n",
    "  'ExterQual', 'FullBath', 'BedroomAbvGr', \n",
    "  'TotRmsAbvGrd', 'SalePrice', 'Neighborhood'\n",
    "]\n",
    "df = data.copy()[cols_to_use]\n",
    "\n",
    "df = pd.DataFrame(df)\n",
    "\n",
    "df.head()\n",
    "df = df.apply(lambda col: col.astype(int) if col.dtype == bool else col)\n",
    "df['OverallQual'] = df['OverallQual'].astype('int32')"
   ]
  },
  {
   "cell_type": "markdown",
   "metadata": {},
   "source": [
    "### Omvandling av data"
   ]
  },
  {
   "cell_type": "code",
   "execution_count": null,
   "metadata": {},
   "outputs": [],
   "source": [
    "df_encoded = pd.get_dummies(df, columns=['MSZoning'], drop_first=True)\n",
    "df_encoded = df_encoded.apply(lambda col: col.astype(int) if col.dtype == bool else col)\n",
    "ordinal_mapping = [\n",
    "    {'col': 'ExterQual', 'mapping': {'Po': 1, 'Fa': 2, 'TA': 3, 'Gd': 4, 'Ex': 5}},\n",
    "]\n",
    "\n",
    "encoder = ce.OrdinalEncoder(mapping=ordinal_mapping, cols=['ExterQual'])\n",
    "df_encoded = encoder.fit_transform(df_encoded)"
   ]
  },
  {
   "cell_type": "code",
   "execution_count": null,
   "metadata": {},
   "outputs": [],
   "source": [
    "scaler = StandardScaler()\n",
    "\n",
    "numerical_columns = df_encoded.drop('SalePrice', axis=1).select_dtypes(include=['int64']).columns.to_list()\n",
    "df_encoded[numerical_columns] = scaler.fit_transform(df_encoded[numerical_columns])\n"
   ]
  },
  {
   "cell_type": "code",
   "execution_count": null,
   "metadata": {},
   "outputs": [],
   "source": [
    "label_encoder = LabelEncoder()\n",
    "\n",
    "df_encoded['NBHNames'] = df_encoded['Neighborhood'].values\n",
    "df_encoded['Neighborhood'] = label_encoder.fit_transform(df_encoded['Neighborhood'])"
   ]
  },
  {
   "cell_type": "markdown",
   "metadata": {},
   "source": [
    "**Correlation Matrix**"
   ]
  },
  {
   "cell_type": "code",
   "execution_count": null,
   "metadata": {},
   "outputs": [],
   "source": [
    "import re\n",
    "\n",
    "def add_spaces(name):\n",
    "    return re.sub(r'(?<!^)(?=[A-Z])', ' ', name)"
   ]
  },
  {
   "cell_type": "code",
   "execution_count": null,
   "metadata": {},
   "outputs": [],
   "source": [
    "correlation_matrix = df_encoded.select_dtypes(include=['int64', 'float64']).corr()\n",
    "formatted_columns = [add_spaces(col) for col in correlation_matrix.columns]\n",
    "\n",
    "fig = go.Figure(data=go.Heatmap(\n",
    "                   z=correlation_matrix.values,\n",
    "                   x=formatted_columns,\n",
    "                   y=formatted_columns,\n",
    "                   colorscale='RdBu',\n",
    "                   zmid=0))\n",
    "fig.update_layout(\n",
    "    title='Correlation Matrix',\n",
    "    xaxis_nticks=36)\n",
    "fig.show()"
   ]
  },
  {
   "cell_type": "code",
   "execution_count": null,
   "metadata": {},
   "outputs": [],
   "source": [
    "saleprice_corr = correlation_matrix['SalePrice'].sort_values(ascending=False)\n",
    "features = saleprice_corr.drop('SalePrice').abs().sort_values(ascending=False)\n",
    "\n",
    "features_df = features.reset_index()\n",
    "features_df.columns = ['Columns', 'Correlation']\n",
    "formatted_columns = [add_spaces(col) for col in features_df['Columns'].values]\n",
    "\n",
    "fig = px.bar(\n",
    "    features_df,\n",
    "    x='Correlation',\n",
    "    y=formatted_columns,\n",
    "    orientation='h',\n",
    "    title='Korrelation till SalePrice',\n",
    "    labels={'Correlation': 'Korrelation med SalePrice', 'Columns': 'Kolumner'},\n",
    "    color='Correlation',\n",
    "    color_continuous_scale='Viridis'\n",
    ")\n",
    "\n",
    "fig.update_layout(yaxis={'categoryorder':'total ascending'})\n",
    "fig.show()"
   ]
  },
  {
   "cell_type": "code",
   "execution_count": null,
   "metadata": {},
   "outputs": [],
   "source": [
    "features = ['FullBath', 'TotRmsAbvGrd', 'YearBuilt', 'YearRemodAdd', 'LotArea', 'BedroomAbvGr']\n",
    "\n",
    "X = df_encoded[features]\n",
    "# X = df_encoded.drop(['SalePrice', 'Neighborhood', 'NBHNames'], axis=1)\n",
    "y = df_encoded['SalePrice']\n",
    "\n",
    "\n",
    "X_train, X_test, y_train, y_test = train_test_split(X, y, test_size=0.2, random_state=42)\n",
    "\n",
    "\n",
    "model = xgb.XGBRegressor(n_estimators=100, learning_rate=0.1, random_state=42)\n",
    "\n",
    "\n",
    "model.fit(X_train, y_train)\n",
    "\n",
    "\n",
    "y_pred = model.predict(X_test)\n",
    "\n",
    "r2 = model.score(X_test, y_test)\n",
    "mse = mean_squared_error(y_test, y_pred)\n",
    "\n",
    "print(f'Modellens R^2: {r2:.2f}')\n",
    "print(f'Medelkvadratfel (MSE): {mse:.2f}')\n"
   ]
  },
  {
   "cell_type": "code",
   "execution_count": null,
   "metadata": {},
   "outputs": [],
   "source": [
    "neighborhood_mapping = {\n",
    "    'Blmngtn': 'Bloomington Heights',\n",
    "    'Blueste': 'Bluestem',\n",
    "    'BrDale': 'Briardale',\n",
    "    'BrkSide': 'Brookside',\n",
    "    'ClearCr': 'Clear Creek',\n",
    "    'CollgCr': 'College Creek',\n",
    "    'Crawfor': 'Crawford',\n",
    "    'Edwards': 'Edwards',\n",
    "    'Gilbert': 'Gilbert',\n",
    "    'IDOTRR': 'Iowa DOT and Rail Road',\n",
    "    'MeadowV': 'Meadow Village',\n",
    "    'Mitchel': 'Mitchell',\n",
    "    'NAmes': 'North Ames',\n",
    "    'NoRidge': 'Northridge',\n",
    "    'NPkVill': 'Northpark Villa',\n",
    "    'NridgHt': 'Northridge Heights',\n",
    "    'NWAmes': 'Northwest Ames',\n",
    "    'OldTown': 'Old Town',\n",
    "    'SWISU': 'S&W of Iowa State University',\n",
    "    'Sawyer': 'Sawyer',\n",
    "    'SawyerW': 'Sawyer West',\n",
    "    'Somerst': 'Somerset',\n",
    "    'StoneBr': 'Stone Brook',\n",
    "    'Timber': 'Timberland',\n",
    "    'Veenker': 'Veenker'\n",
    "}\n",
    "\n",
    "ordered_neighborhoods = list(neighborhood_mapping.keys())\n",
    "\n",
    "\n",
    "labels = {\n",
    "  'Neighborhood': 'Neighborhood (Short)',\n",
    "  'SalePrice': 'Sale Price (USD $)',\n",
    "  'PriceCategory': 'Price Category (Low, Medium, High)',\n",
    "  'Neighborhood_Full_Name': 'Neighborhood',\n",
    "  'LotArea': 'Lot Area (square feet)',\n",
    "  'YearBuilt': 'Year Built',\n",
    "  'YearRemodAdd': 'Year Remodeled',\n",
    "  'MSZoning': 'Zoning Classification'\n",
    "}"
   ]
  },
  {
   "cell_type": "markdown",
   "metadata": {},
   "source": [
    "### Residualer "
   ]
  },
  {
   "cell_type": "code",
   "execution_count": null,
   "metadata": {},
   "outputs": [],
   "source": [
    "residuals_df = pd.DataFrame({\n",
    "    'Predicerade värden': y_pred,\n",
    "    'Residualer': y_test - y_pred\n",
    "})\n",
    "\n",
    "fig = px.scatter(residuals_df, x='Predicerade värden', y='Residualer',\n",
    "                 title='Residualer vs Predicerade värden',\n",
    "                 labels={'Predicerade värden': 'Predicerade värden', 'Residualer': 'Residualer'})\n",
    "\n",
    "\n",
    "fig.add_shape(type=\"line\", x0=min(y_pred), x1=max(y_pred), y0=0, y1=0, line=dict(color='Red', dash='dash'))\n",
    "\n",
    "fig.show()\n"
   ]
  },
  {
   "cell_type": "markdown",
   "metadata": {},
   "source": [
    "### Feature Importance"
   ]
  },
  {
   "cell_type": "code",
   "execution_count": null,
   "metadata": {},
   "outputs": [],
   "source": [
    "importance = model.feature_importances_\n",
    "\n",
    "importance_df = pd.DataFrame({\n",
    "    'Feature': features,\n",
    "    'Importance': importance\n",
    "})\n",
    "\n",
    "fig = px.bar(importance_df, x='Importance', y='Feature', orientation='h',\n",
    "             title='Feature Importance', labels={'Importance': 'Viktighet', 'Feature': 'Funktioner'})\n",
    "\n",
    "fig.update_layout(yaxis={'categoryorder':'total ascending'})\n",
    "fig.show()"
   ]
  },
  {
   "cell_type": "code",
   "execution_count": null,
   "metadata": {},
   "outputs": [],
   "source": [
    "# Filtrera bort funktioner med låg betydelse\n",
    "significant_features = importance_df[importance_df['Importance'] > 0.01]['Feature'].tolist()\n",
    "\n",
    "# Träna modellen igen med bara viktiga funktioner\n",
    "X_train_significant = X_train[significant_features]\n",
    "X_test_significant = X_test[significant_features]\n",
    "\n",
    "model.fit(X_train_significant, y_train)\n",
    "y_pred_significant = model.predict(X_test_significant)\n",
    "\n",
    "# Utvärdera den nya modellen\n",
    "r2_significant = model.score(X_test_significant, y_test)\n",
    "mse_significant = mean_squared_error(y_test, y_pred_significant)\n",
    "\n",
    "print(f'R^2 efter att ha filtrerat funktioner: {r2_significant:.2f}')\n",
    "print(f'Medelkvadratfel (MSE): {mse_significant:.2f}')"
   ]
  },
  {
   "cell_type": "code",
   "execution_count": null,
   "metadata": {},
   "outputs": [],
   "source": [
    "param_grid = {\n",
    "    'n_estimators': [50, 100, 200],\n",
    "    'learning_rate': [0.01, 0.1, 0.2],\n",
    "    'max_depth': [3, 5, 7]\n",
    "}\n",
    "\n",
    "grid_search = GridSearchCV(estimator=model, param_grid=param_grid, cv=5, scoring='r2', n_jobs=-1)\n",
    "grid_search.fit(X_train, y_train)\n",
    "\n",
    "print(f'Bästa parametrar: {grid_search.best_params_}')\n",
    "print(f'Bästa R^2: {grid_search.best_score_}')"
   ]
  },
  {
   "cell_type": "code",
   "execution_count": null,
   "metadata": {},
   "outputs": [],
   "source": [
    "results_df = pd.DataFrame({'Predicerade': y_pred, 'Faktiska': y_test})\n",
    "\n",
    "fig = px.scatter(results_df, x='Faktiska', y='Predicerade',\n",
    "                 title='Predicerade vs Faktiska huspriser',\n",
    "                 labels={'Faktiska': 'Faktiska huspriser', 'Predicerade': 'Predicerade huspriser'})\n",
    "fig.add_shape(type=\"line\", x0=results_df['Faktiska'].min(), x1=results_df['Faktiska'].max(),\n",
    "              y0=results_df['Faktiska'].min(), y1=results_df['Faktiska'].max(),\n",
    "              line=dict(color='Red', dash='dash'))\n",
    "\n",
    "fig.show()"
   ]
  },
  {
   "cell_type": "code",
   "execution_count": null,
   "metadata": {},
   "outputs": [],
   "source": [
    "fig = px.box(\n",
    "    df, \n",
    "    x='Neighborhood', \n",
    "    y='SalePrice', \n",
    "    title='Sale Price Distribution by Neighborhood',\n",
    "    labels=labels,\n",
    "    category_orders={'Neighborhood': ordered_neighborhoods},\n",
    "    color='Neighborhood',\n",
    "    color_discrete_sequence=px.colors.qualitative.Alphabet,\n",
    ")\n",
    "for trace in fig.data:\n",
    "    trace.name = neighborhood_mapping[trace.name]\n",
    "\n",
    "fig.show()"
   ]
  },
  {
   "cell_type": "code",
   "execution_count": null,
   "metadata": {},
   "outputs": [],
   "source": [
    "df_encoded = df_encoded.astype({col: 'int' for col in df_encoded.select_dtypes('bool').columns})\n"
   ]
  },
  {
   "cell_type": "code",
   "execution_count": null,
   "metadata": {},
   "outputs": [],
   "source": [
    "gilbert_df = df_encoded.loc[df_encoded['Neighborhood'] == 'Gilbert']"
   ]
  },
  {
   "cell_type": "code",
   "execution_count": null,
   "metadata": {},
   "outputs": [],
   "source": [
    "import tensorflow as tf\n",
    "from sklearn.model_selection import train_test_split\n",
    "\n",
    "X = df_encoded.drop(['SalePrice', 'Neighborhood', 'NBHNames'], axis=1)\n",
    "y = df_encoded['SalePrice']\n",
    "\n",
    "X_train, X_test, y_train, y_test = train_test_split(X, y, test_size=0.2, random_state=42)\n",
    "\n",
    "model = tf.keras.models.Sequential()\n",
    "\n",
    "# Input layer\n",
    "model.add(tf.keras.layers.Dense(10, activation='relu', input_shape=(X_train.shape[1],)))\n",
    "\n",
    "# Hidden layer\n",
    "model.add(tf.keras.layers.Dense(10, activation='relu'))\n",
    "\n",
    "# Output layer\n",
    "model.add(tf.keras.layers.Dense(1))  \n",
    "\n",
    "\n",
    "model.compile(\n",
    "    optimizer='adam', \n",
    "    loss='mean_squared_error', \n",
    "    metrics=['mae']  \n",
    ")\n",
    "\n",
    "model.fit(X_train, y_train, epochs=100, batch_size=10)\n",
    "\n",
    "loss, mae = model.evaluate(X_test, y_test)\n",
    "print(f'Model Loss (MSE): {loss}')\n",
    "print(f'Mean Absolute Error (MAE): {mae}')\n"
   ]
  },
  {
   "cell_type": "code",
   "execution_count": null,
   "metadata": {},
   "outputs": [],
   "source": [
    "y_pred = model.predict(X_test)\n",
    "\n",
    "\n",
    "results_df = pd.DataFrame({\n",
    "    'Faktiska priser': y_test,\n",
    "    'Predicerade priser': y_pred.flatten()\n",
    "})\n",
    "\n",
    "\n",
    "fig = px.scatter(results_df, x='Faktiska priser', y='Predicerade priser',\n",
    "                 title='Predicerade vs Faktiska huspriser',\n",
    "                 labels={'Faktiska priser': 'Faktiska huspriser', 'Predicerade priser': 'Predicerade huspriser'})\n",
    "\n",
    "\n",
    "fig.add_shape(type=\"line\", x0=results_df['Faktiska priser'].min(), x1=results_df['Faktiska priser'].max(),\n",
    "              y0=results_df['Faktiska priser'].min(), y1=results_df['Faktiska priser'].max(),\n",
    "              line=dict(color='Red', dash='dash'))\n",
    "\n",
    "fig.show()"
   ]
  },
  {
   "cell_type": "code",
   "execution_count": null,
   "metadata": {},
   "outputs": [],
   "source": [
    "residuals = y_test - y_pred.flatten()\n",
    "\n",
    "fig = px.scatter(x=y_pred.flatten(), y=residuals,\n",
    "                 title='Residualer vs Predicerade värden',\n",
    "                 labels={'x': 'Predicerade värden', 'y': 'Residualer'})\n",
    "\n",
    "fig.add_shape(type=\"line\", x0=y_pred.min(), x1=y_pred.max(), y0=0, y1=0,\n",
    "              line=dict(color='Red', dash='dash'))\n",
    "\n",
    "fig.show()"
   ]
  }
 ],
 "metadata": {
  "kernelspec": {
   "display_name": "myenv",
   "language": "python",
   "name": "python3"
  },
  "language_info": {
   "codemirror_mode": {
    "name": "ipython",
    "version": 3
   },
   "file_extension": ".py",
   "mimetype": "text/x-python",
   "name": "python",
   "nbconvert_exporter": "python",
   "pygments_lexer": "ipython3",
   "version": "3.10.13"
  }
 },
 "nbformat": 4,
 "nbformat_minor": 2
}
