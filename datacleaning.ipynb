{
 "cells": [
  {
   "cell_type": "code",
   "execution_count": null,
   "metadata": {},
   "outputs": [],
   "source": [
    "import pandas as pd\n",
    "import numpy as np\n",
    "import plotly.express as px\n",
    "\n",
    "from sklearn.preprocessing import StandardScaler\n",
    "from sklearn.impute import KNNImputer"
   ]
  },
  {
   "cell_type": "code",
   "execution_count": null,
   "metadata": {},
   "outputs": [],
   "source": [
    "data = pd.read_csv('./data/train.csv')\n",
    "df = data.copy()\n",
    "\n",
    "df = pd.DataFrame(df)"
   ]
  },
  {
   "cell_type": "code",
   "execution_count": null,
   "metadata": {},
   "outputs": [],
   "source": [
    "data.dtypes.value_counts()"
   ]
  },
  {
   "cell_type": "code",
   "execution_count": null,
   "metadata": {},
   "outputs": [],
   "source": [
    "data.columns"
   ]
  },
  {
   "cell_type": "markdown",
   "metadata": {},
   "source": [
    "### **Fixa NaN Värden**"
   ]
  },
  {
   "cell_type": "markdown",
   "metadata": {},
   "source": [
    "**Visa alla NaN-värden**"
   ]
  },
  {
   "cell_type": "code",
   "execution_count": null,
   "metadata": {},
   "outputs": [],
   "source": [
    "null_count = df.isnull().sum()\n",
    "\n",
    "null_count = null_count[null_count > 0]\n",
    "\n",
    "dtypes_with_null = df[null_count.index].dtypes\n",
    "\n",
    "null_info = pd.DataFrame({\n",
    "    'NullCount': null_count,\n",
    "    'Dtype': dtypes_with_null\n",
    "})\n",
    "\n",
    "print(\"\\nSammanfattning av nullvärden och datatyper:\")\n",
    "print(null_info)"
   ]
  },
  {
   "cell_type": "markdown",
   "metadata": {},
   "source": [
    "**Hantera alla NaN-värden**"
   ]
  },
  {
   "cell_type": "code",
   "execution_count": null,
   "metadata": {},
   "outputs": [],
   "source": [
    "df['HasGarage'] = df['GarageYrBlt'].notnull().astype(int)\n",
    "df['HasPool'] = df['PoolArea'].notnull().astype(int)\n",
    "df['HasFireplace'] = df['Fireplaces'].notnull().astype(int)\n",
    "df['HasBasement'] = df['TotalBsmtSF'].notnull().astype(int)\n",
    "\n",
    "bins = [0, 129975, 214000, float('inf')]\n",
    "labels = ['Low', 'Medium', 'High']\n",
    "\n",
    "df['PriceCategory'] = pd.cut(df['SalePrice'], bins=bins, labels=labels, right=True)"
   ]
  },
  {
   "cell_type": "code",
   "execution_count": null,
   "metadata": {},
   "outputs": [],
   "source": [
    "df.dtypes.value_counts()"
   ]
  },
  {
   "cell_type": "markdown",
   "metadata": {},
   "source": [
    "* <small> Numeriska kolumner: </small>"
   ]
  },
  {
   "cell_type": "code",
   "execution_count": null,
   "metadata": {},
   "outputs": [],
   "source": [
    "numeric_nan_cols = {\n",
    "  'MasVnrArea': 0,\n",
    "  'GarageYrBlt': -1\n",
    "}\n",
    "df.fillna(numeric_nan_cols, inplace=True)"
   ]
  },
  {
   "cell_type": "markdown",
   "metadata": {},
   "source": [
    "* <small> Icke numeriska kolumner: </small>"
   ]
  },
  {
   "cell_type": "code",
   "execution_count": null,
   "metadata": {},
   "outputs": [],
   "source": [
    "non_numeric_cols = df.select_dtypes(exclude=['number', 'category']).columns.tolist()\n",
    "non_numerics_to_fill = [col for col in non_numeric_cols if col != 'LotFrontage']\n",
    "df[non_numerics_to_fill] = df[non_numerics_to_fill].fillna('NA')\n",
    "\n",
    "df = pd.DataFrame(df)"
   ]
  },
  {
   "cell_type": "markdown",
   "metadata": {},
   "source": [
    "**Omvandla Datatyper**"
   ]
  },
  {
   "cell_type": "code",
   "execution_count": null,
   "metadata": {},
   "outputs": [],
   "source": [
    "print(df.isnull().sum())\n",
    "df.dtypes.value_counts()"
   ]
  },
  {
   "cell_type": "markdown",
   "metadata": {},
   "source": [
    "**Använder KNNImputer för att fylla i missing values för `LotFrontage`**"
   ]
  },
  {
   "cell_type": "markdown",
   "metadata": {},
   "source": [
    "<small> \n",
    "  Korrelation mellan numreriska kolumner och <code>Lotfrontage</code>\n",
    "</small>"
   ]
  },
  {
   "cell_type": "code",
   "execution_count": null,
   "metadata": {},
   "outputs": [],
   "source": [
    "numerical_cols = df.select_dtypes(include=['int64', 'float64']).columns.tolist()\n",
    "\n",
    "df_corr = df[numerical_cols].copy()\n",
    "df_corr.fillna(df_corr.median(), inplace=True)\n",
    "\n",
    "correlation_matrix = df_corr.corr()\n",
    "lotfrontage_corr = correlation_matrix['LotFrontage'].sort_values(ascending=False)\n",
    "top_features = lotfrontage_corr.drop('LotFrontage').abs().sort_values(ascending=False).head(10)\n",
    "\n",
    "top_features_df = top_features.reset_index()\n",
    "top_features_df.columns = ['Columns', 'Correlation']\n",
    "\n",
    "fig = px.bar(\n",
    "    top_features_df,\n",
    "    x='Correlation',\n",
    "    y='Columns',\n",
    "    orientation='h',\n",
    "    title='Top 10 Funktioner med Högst Korrelation till LotFrontage',\n",
    "    labels={'Correlation': 'Korrelation med LotFrontage', 'Columns': 'Kolumner'},\n",
    "    color='Correlation',\n",
    "    color_continuous_scale='Viridis'\n",
    ")\n",
    "\n",
    "fig.update_layout(yaxis={'categoryorder':'total ascending'})\n",
    "fig.show()"
   ]
  },
  {
   "cell_type": "markdown",
   "metadata": {},
   "source": [
    "<small> \n",
    "<code>KNNImputer:</code>\n",
    "\n",
    " En imputeringsmetod som använder K-Nearest Neighbors-algoritmen för att fylla i saknade värden baserat på närliggande datapunkter.\n",
    "</small>"
   ]
  },
  {
   "cell_type": "code",
   "execution_count": null,
   "metadata": {},
   "outputs": [],
   "source": [
    "# top 10 correlation\n",
    "features = top_features_df['Columns'].tolist()\n",
    "features.append('LotFrontage')\n",
    "\n",
    "\n",
    "categorical_cols = ['Neighborhood', 'BldgType', 'HouseStyle']\n",
    "df_encoded = pd.get_dummies(df[features + categorical_cols], drop_first=True)\n",
    "\n",
    "scaler = StandardScaler()\n",
    "df_scaled = scaler.fit_transform(df_encoded)\n",
    "\n",
    "imputer = KNNImputer(n_neighbors=5)\n",
    "df_imputed_scaled = imputer.fit_transform(df_scaled)\n",
    "\n",
    "# Omvandlar imputerade datan till en Dataframe med samma kolumnnamn som df_encoded\n",
    "df_imputed = pd.DataFrame(df_imputed_scaled, columns=df_encoded.columns)\n",
    "\n",
    "# Återställer till ursprunglig scala på data\n",
    "df_imputed_original_scale = scaler.inverse_transform(df_imputed)\n",
    "\n",
    "# Skapar dataframe med inverterade datan\n",
    "df_imputed_original_scale = pd.DataFrame(df_imputed_original_scale, columns=df_encoded.columns)\n",
    "\n",
    "nan_indices = df[df['LotFrontage'].isnull()].index\n",
    "imputed_lotfrontage = df_imputed_original_scale['LotFrontage']\n",
    "\n",
    "original_nan_values = df.loc[nan_indices, 'LotFrontage']\n",
    "imputed_values = imputed_lotfrontage.loc[nan_indices]\n",
    "\n",
    "comparison_df = pd.DataFrame({\n",
    "    'Original_LotFrontage': original_nan_values,\n",
    "    'Imputed_LotFrontage': imputed_values\n",
    "})\n",
    "\n",
    "df['LotFrontage'] = imputed_lotfrontage"
   ]
  },
  {
   "cell_type": "code",
   "execution_count": null,
   "metadata": {},
   "outputs": [],
   "source": [
    "comparison_df"
   ]
  },
  {
   "cell_type": "code",
   "execution_count": null,
   "metadata": {},
   "outputs": [],
   "source": [
    "df.to_csv('./data/train_clean.csv', index=False)"
   ]
  }
 ],
 "metadata": {
  "kernelspec": {
   "display_name": "myenv",
   "language": "python",
   "name": "python3"
  },
  "language_info": {
   "codemirror_mode": {
    "name": "ipython",
    "version": 3
   },
   "file_extension": ".py",
   "mimetype": "text/x-python",
   "name": "python",
   "nbconvert_exporter": "python",
   "pygments_lexer": "ipython3",
   "version": "3.10.13"
  }
 },
 "nbformat": 4,
 "nbformat_minor": 2
}
